{
 "cells": [
  {
   "cell_type": "markdown",
   "metadata": {
    "id": "dDl9A8u7IkBw"
   },
   "source": [
    "# Types and Objects\n",
    "\n",
    "Before progressing to talking about how we use object-oriented programming in Python, we must cover a little theory and make some key definitions. These definitions will underpin the rest of the discussions in this workshop.\n",
    "\n",
    "In Python, everything is an object. An object is an instance of a \"type\", which may be thought of as a template for a particular piece of information or group of bits of information.  We may find out the type of an object using the ```type``` function:"
   ]
  },
  {
   "cell_type": "code",
   "execution_count": 1,
   "metadata": {
    "id": "HFcpJBWVekik"
   },
   "outputs": [
    {
     "name": "stdout",
     "output_type": "stream",
     "text": [
      "<class 'float'>\n"
     ]
    }
   ],
   "source": [
    "print(type(3.14))"
   ]
  },
  {
   "cell_type": "code",
   "execution_count": 2,
   "metadata": {
    "id": "r3GZ4mfNelvq"
   },
   "outputs": [
    {
     "name": "stdout",
     "output_type": "stream",
     "text": [
      "<class 'int'>\n"
     ]
    }
   ],
   "source": [
    "a = 2\n",
    "print(type(a))"
   ]
  },
  {
   "cell_type": "code",
   "execution_count": 3,
   "metadata": {
    "id": "HrjwLV3ienBf"
   },
   "outputs": [
    {
     "name": "stdout",
     "output_type": "stream",
     "text": [
      "<class 'bool'>\n"
     ]
    }
   ],
   "source": [
    "print(type(False))"
   ]
  },
  {
   "cell_type": "code",
   "execution_count": 4,
   "metadata": {
    "id": "khd9lWCCeoPh"
   },
   "outputs": [
    {
     "name": "stdout",
     "output_type": "stream",
     "text": [
      "<class 'builtin_function_or_method'>\n"
     ]
    }
   ],
   "source": [
    "print(type(print))"
   ]
  },
  {
   "cell_type": "code",
   "execution_count": 5,
   "metadata": {
    "id": "-3GIrXeNepZP"
   },
   "outputs": [
    {
     "name": "stdout",
     "output_type": "stream",
     "text": [
      "<class 'function'>\n"
     ]
    }
   ],
   "source": [
    "def sample_function():\n",
    "  print(\"Sample\")\n",
    "\n",
    "print(type(sample_function))"
   ]
  },
  {
   "cell_type": "code",
   "execution_count": 6,
   "metadata": {
    "id": "KoN6e3hbIcKW"
   },
   "outputs": [
    {
     "name": "stdout",
     "output_type": "stream",
     "text": [
      "<class 'type'>\n"
     ]
    }
   ],
   "source": [
    "print(type(int))"
   ]
  },
  {
   "cell_type": "markdown",
   "metadata": {
    "id": "j9Ecu0v3M7tv"
   },
   "source": [
    "As you can see, not only different values may be examples of different types, but functions, such as the ```print``` function and a user-defined function are also an examples of types.\n",
    "\n",
    "You may think of a type as a blueprint for a particular arrangement of data, although a type does not contain any data itself. The ```int``` type is a blueprint for the information required to define a whole number, but the variable ```a``` in the code segment above is an object of the ```int``` type with data which represents the value 2.\n",
    "\n",
    "An object of a certain type is sometimes referred to as an \"instance\" of the that type.\n",
    "\n",
    "It is worth noting that the word \"class\" is almost interchangeable with the word \"type\" in modern Python, although their meanings differed more in earlier versions of the language."
   ]
  }
 ],
 "metadata": {
  "colab": {
   "authorship_tag": "ABX9TyNts0kfZhsbiLHLA1FiBQv7",
   "collapsed_sections": [],
   "name": "Types and Objects.ipynb",
   "provenance": []
  },
  "kernelspec": {
   "display_name": "Python 3",
   "language": "python",
   "name": "python3"
  },
  "language_info": {
   "codemirror_mode": {
    "name": "ipython",
    "version": 3
   },
   "file_extension": ".py",
   "mimetype": "text/x-python",
   "name": "python",
   "nbconvert_exporter": "python",
   "pygments_lexer": "ipython3",
   "version": "3.10.12"
  }
 },
 "nbformat": 4,
 "nbformat_minor": 1
}
